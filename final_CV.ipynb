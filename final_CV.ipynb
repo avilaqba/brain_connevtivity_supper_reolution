{
 "cells": [
  {
   "cell_type": "markdown",
   "id": "b387ab68",
   "metadata": {},
   "source": [
    "# Brain Connevtivity Image Supper Reolution"
   ]
  },
  {
   "cell_type": "code",
   "execution_count": 1,
   "id": "9ef3d59b",
   "metadata": {},
   "outputs": [],
   "source": [
    "# necessary imports\n",
    "import numpy as np\n",
    "import pandas as pd\n",
    "from lightgbm import LGBMRegressor\n",
    "from sklearn.feature_selection import SelectKBest, f_regression\n",
    "from sklearn.model_selection import KFold\n",
    "from sklearn.metrics import mean_squared_error as mse\n",
    "import random as r\n",
    "# specifying random seed of 1 for reproducibility of the results\n",
    "r.seed(1)"
   ]
  },
  {
   "cell_type": "code",
   "execution_count": 2,
   "id": "b39266fb",
   "metadata": {},
   "outputs": [],
   "source": [
    "# selecting the best k features based on a quick linear regression model\n",
    "def select_KBest(X_train, X_test, y_train, k):\n",
    "    \n",
    "    # fitting the simple linear regression model & getting the top k features\n",
    "    fs = SelectKBest(score_func=f_regression, k=k)\n",
    "    fs.fit(X_train, y_train)\n",
    "    \n",
    "    # transforming the train and test data to have only the chose k features\n",
    "    X_train = fs.transform(X_train)\n",
    "    X_test = fs.transform(X_test)\n",
    "    \n",
    "    return X_train, X_test"
   ]
  },
  {
   "cell_type": "code",
   "execution_count": 3,
   "id": "7c7fcdb0",
   "metadata": {},
   "outputs": [],
   "source": [
    "# training the LGBM model by getting the input data, and parameters\n",
    "def train_predict(X_train, X_test, y_train, y_test, k, params):\n",
    "    \n",
    "    # creating a list for predicted columns\n",
    "    y_hat_list = []\n",
    "    \n",
    "    # iterating over target columns\n",
    "    for col in y_train.columns:\n",
    "        \n",
    "        # selecting the top k features\n",
    "        X_train_sel, X_test_sel = select_KBest(X_train, X_test, y_train[col], k)\n",
    "        \n",
    "        # fitting the LGBM model on the training data using the input parameters\n",
    "        regressor = LGBMRegressor(**params)\n",
    "        regressor.fit(X_train_sel, y_train[col])\n",
    "        \n",
    "        # making the predictions and adding the results into the list\n",
    "        y_hat = regressor.predict(X_test_sel)\n",
    "        y_hat_list.append(pd.DataFrame({col:y_hat}))\n",
    "        \n",
    "    # concatinating the target column in a column-wise manner\n",
    "    y_hat_df = pd.concat(y_hat_list, axis=1)\n",
    "    \n",
    "    # returning the output as a dataframe\n",
    "    return y_hat_df\n"
   ]
  },
  {
   "cell_type": "code",
   "execution_count": 4,
   "id": "9250dab3",
   "metadata": {},
   "outputs": [],
   "source": [
    "# doing the K-Fold CV using the training data and all the input parameters\n",
    "def Do_KFold_CV(train_lr, train_hr, num_fold, k, params, output_prefix):\n",
    "    \n",
    "    # specifiying the split of the data into num_fold folds\n",
    "    kf = KFold(n_splits=num_fold, random_state=True, shuffle=True)\n",
    "    \n",
    "    f = 1\n",
    "    actuals_list, predictions_list, fold_scores = [], [], []\n",
    "    \n",
    "    # doing the split\n",
    "    for train_index, test_index in kf.split(train_lr):\n",
    "        \n",
    "        # getting the train and test sets\n",
    "        X_train, X_test = train_lr.iloc[train_index], train_lr.iloc[test_index]\n",
    "        y_train, y_test = train_hr.iloc[train_index], train_hr.iloc[test_index]\n",
    "        \n",
    "        # training and making the predictions by calling the train_predict function\n",
    "        preds = train_predict(X_train, X_test, y_train, y_test, k, params)\n",
    "        \n",
    "        # appending the actual and predicted dataframes\n",
    "        actuals_list.append(y_test)\n",
    "        predictions_list.append(preds)\n",
    "        \n",
    "        # melting and calculating the MSE\n",
    "        fold_mse = mse(y_test.to_numpy().flatten(), preds.to_numpy().flatten())\n",
    "        fold_scores.append(fold_mse)\n",
    "        print ('Fold %s is finished with an mse of %.5f'%(f, fold_mse))\n",
    "        f += 1\n",
    "    \n",
    "    # concatinating the actual y_test sets in a row-wise manner ; the aim here is to reconstruct\n",
    "    # the original train_hr and also correlating prediction dataframe with all 189 samples\n",
    "    actuals = pd.concat(actuals_list, axis=0)\n",
    "    # adding the index as a column named ID\n",
    "    actuals['ID'] = actuals.index\n",
    "    # sorting the values by ID \n",
    "    actuals.sort_values('ID', inplace=True)\n",
    "    # set ID as the index\n",
    "    actuals.set_index('ID', inplace=True, drop=True)\n",
    "    \n",
    "    # similarly doing the same for predictions\n",
    "    predictions = pd.concat(predictions_list, axis=0)\n",
    "    predictions['ID'] = actuals.index\n",
    "    predictions.sort_values('ID', inplace=True)\n",
    "    predictions.set_index('ID', inplace=True, drop=True)\n",
    "    # now they both have the same sorted indices.\n",
    "    \n",
    "    # melting the two dataframe \n",
    "    melted_actuals = actuals.to_numpy().flatten()\n",
    "    melted_predictions = predictions.to_numpy().flatten()\n",
    "    # creating a dataframe from melted predictions\n",
    "    predicted = pd.DataFrame({'predicted':melted_predictions})\n",
    "    # naming the index as ID\n",
    "    predicted.index.name = 'ID'\n",
    "    # writing the predictions dataframe to a csv file in the format of Kaggle competition\n",
    "    predicted.to_csv('%s.csv'%output_prefix)\n",
    "\n",
    "    return np.mean(fold_scores)\n"
   ]
  },
  {
   "cell_type": "code",
   "execution_count": 5,
   "id": "3fe26717",
   "metadata": {},
   "outputs": [
    {
     "name": "stdout",
     "output_type": "stream",
     "text": [
      "Fold 1 is finished with an mse of 0.02342\n",
      "Fold 2 is finished with an mse of 0.02194\n",
      "Fold 3 is finished with an mse of 0.02533\n",
      "Fold 4 is finished with an mse of 0.02376\n",
      "Fold 5 is finished with an mse of 0.02419\n",
      " \n",
      "\u001b[1m5-Fold CV finished with an mse of 0.02373\n"
     ]
    }
   ],
   "source": [
    "# reading the input datasets\n",
    "train_lr = pd.read_csv('../input/brain-connectivity-matrix-dataset/train_LR.csv')\n",
    "train_hr = pd.read_csv('../input/brain-connectivity-matrix-dataset/train_HR.csv')\n",
    "\n",
    "# specifying the parameters\n",
    "# k_best for selecting the top k features\n",
    "k_best = 2000 \n",
    "\n",
    "# K-fold CV parameter for the number of folds\n",
    "num_fold = 5\n",
    "\n",
    "# hyperparameter of LGBM model\n",
    "params = {'verbose': -1,\n",
    "          'boosting_type': 'goss',\n",
    "          'top_rate': 0.6, \n",
    "          'other_rate': 0.4}\n",
    "# note that top_rate is the retain ratio of large gradient,\n",
    "# and other_rate is the retain ratio of samll gradient.\n",
    "\n",
    "output_prefix = 'predictions'\n",
    "\n",
    "# putting them all together and runninf the 5-Fold CV\n",
    "MSE_CV = Do_KFold_CV(train_lr, train_hr, num_fold, k_best, params, output_prefix)\n",
    "print(' ')\n",
    "print ('\\033[1m' + '5-Fold CV finished with an mse of %.5f'%MSE_CV)"
   ]
  },
  {
   "cell_type": "code",
   "execution_count": null,
   "id": "3ff5f509",
   "metadata": {},
   "outputs": [],
   "source": []
  }
 ],
 "metadata": {
  "kernelspec": {
   "display_name": "Python 3 (ipykernel)",
   "language": "python",
   "name": "python3"
  },
  "language_info": {
   "codemirror_mode": {
    "name": "ipython",
    "version": 3
   },
   "file_extension": ".py",
   "mimetype": "text/x-python",
   "name": "python",
   "nbconvert_exporter": "python",
   "pygments_lexer": "ipython3",
   "version": "3.9.7"
  }
 },
 "nbformat": 4,
 "nbformat_minor": 5
}
